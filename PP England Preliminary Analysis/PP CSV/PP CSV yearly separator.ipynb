{
 "cells": [
  {
   "cell_type": "code",
   "execution_count": 1,
   "id": "450a47e0",
   "metadata": {},
   "outputs": [
    {
     "name": "stdout",
     "output_type": "stream",
     "text": [
      "Done splitting file by year.\n"
     ]
    }
   ],
   "source": [
    "import pandas as pd\n",
    "\n",
    "# Load the data\n",
    "df = pd.read_csv('/Users/justinshaw/pp-2010&2015-subset.csv')\n",
    "\n",
    "# Assuming the date column is named 'date', change this to your actual date column\n",
    "# Also assuming the date is in 'YYYY-MM-DD' format\n",
    "df['date'] = pd.to_datetime(df['date'])\n",
    "df['year'] = df['date'].dt.year\n",
    "\n",
    "# Get the list of unique years\n",
    "years = df['year'].unique()\n",
    "\n",
    "# Loop through the years and create a new CSV file for each year\n",
    "for year in years:\n",
    "    df_year = df[df['year'] == year]\n",
    "    df_year.to_csv(f'/Users/justinshaw/pp-{year}-subset.csv', index=False)\n",
    "\n",
    "print('Done splitting file by year.')"
   ]
  }
 ],
 "metadata": {
  "kernelspec": {
   "display_name": "Python 3 (ipykernel)",
   "language": "python",
   "name": "python3"
  },
  "language_info": {
   "codemirror_mode": {
    "name": "ipython",
    "version": 3
   },
   "file_extension": ".py",
   "mimetype": "text/x-python",
   "name": "python",
   "nbconvert_exporter": "python",
   "pygments_lexer": "ipython3",
   "version": "3.10.9"
  }
 },
 "nbformat": 4,
 "nbformat_minor": 5
}
