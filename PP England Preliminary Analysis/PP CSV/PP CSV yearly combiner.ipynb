{
 "cells": [
  {
   "cell_type": "code",
   "execution_count": null,
   "id": "dfff0d2e",
   "metadata": {},
   "outputs": [],
   "source": [
    "import pandas as pd\n",
    "\n",
    "# List of years, adjust according to your needs\n",
    "years = [2010, 2011, 2012, 2013, 2014, 2015]\n",
    "\n",
    "# Create an empty list to store the dataframes\n",
    "dfs = []\n",
    "\n",
    "# Loop through the years and read each CSV file into a DataFrame\n",
    "for year in years:\n",
    "    df_year = pd.read_csv(f'/Users/justinshaw/pp-{year}-subset.csv')\n",
    "    dfs.append(df_year)\n",
    "\n",
    "# Concatenate all the dataframes into one\n",
    "df = pd.concat(dfs)\n",
    "\n",
    "# Save the combined dataframe to a new CSV file\n",
    "df.to_csv('/Users/justinshaw/pp-2010&2015-subset.csv', index=False)\n",
    "\n",
    "print('Done combining yearly files.')"
   ]
  }
 ],
 "metadata": {
  "kernelspec": {
   "display_name": "Python 3 (ipykernel)",
   "language": "python",
   "name": "python3"
  },
  "language_info": {
   "codemirror_mode": {
    "name": "ipython",
    "version": 3
   },
   "file_extension": ".py",
   "mimetype": "text/x-python",
   "name": "python",
   "nbconvert_exporter": "python",
   "pygments_lexer": "ipython3",
   "version": "3.10.9"
  }
 },
 "nbformat": 4,
 "nbformat_minor": 5
}
